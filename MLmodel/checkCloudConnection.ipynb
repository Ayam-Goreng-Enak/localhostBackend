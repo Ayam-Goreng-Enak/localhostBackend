{
 "cells": [
  {
   "cell_type": "code",
   "execution_count": 2,
   "metadata": {},
   "outputs": [
    {
     "name": "stderr",
     "output_type": "stream",
     "text": [
      "Your browser has been opened to visit:\n",
      "\n",
      "    https://accounts.google.com/o/oauth2/auth?response_type=code&client_id=764086051850-6qr4p6gpi6hn506pt8ejuq83di341hur.apps.googleusercontent.com&redirect_uri=http%3A%2F%2Flocalhost%3A8085%2F&scope=openid+https%3A%2F%2Fwww.googleapis.com%2Fauth%2Fuserinfo.email+https%3A%2F%2Fwww.googleapis.com%2Fauth%2Fcloud-platform+https%3A%2F%2Fwww.googleapis.com%2Fauth%2Fsqlservice.login+https%3A%2F%2Fwww.googleapis.com%2Fauth%2Faccounts.reauth&state=ziQ2Z7HzXnLYPRXdxi6fIiwGCHyafF&access_type=offline&code_challenge=3bkO0akOJNf8F1c86q5n9lEv6ZWO3t-dUxYPr6pC48c&code_challenge_method=S256\n",
      "\n",
      "\n",
      "Credentials saved to file: [C:\\Users\\asus\\AppData\\Roaming\\gcloud\\application_default_credentials.json]\n",
      "\n",
      "These credentials will be used by any library that requests Application Default Credentials (ADC).\n",
      "\n",
      "Quota project \"caps-test-352212\" was added to ADC which can be used by Google client libraries for billing and quota. Note that some services may still bill the project owning the resource.\n"
     ]
    }
   ],
   "source": [
    "!gcloud auth application-default login"
   ]
  },
  {
   "cell_type": "code",
   "execution_count": 12,
   "metadata": {},
   "outputs": [],
   "source": [
    "import sqlalchemy\n",
    "from google.cloud.sql.connector import connector\n",
    "    # myconn = connector.connect(\n",
    "    #     \"caps-test-352212:asia-southeast1:capfitsdb\", \n",
    "    #     \"pymysql\",\n",
    "    #     user=\"root\",\n",
    "    #     password=\"123456\",\n",
    "    #     db=\"capfits_db\")\n",
    "    # print(\"Connected to Cloud SQL\")\n",
    "def CloudSQL() -> sqlalchemy.engine.Engine:\n",
    "    def getconn() -> connector.connect:\n",
    "        conn = connector.connect(\n",
    "            \"caps-test-352212:asia-southeast1:capfitsdb\", \n",
    "            \"pymysql\",\n",
    "            user=\"root\",\n",
    "            password=\"123456\",\n",
    "            db=\"capfits_db\")\n",
    "        return conn\n",
    "\n",
    "    engine = sqlalchemy.create_engine(\n",
    "        \"mysql+pymysql://\",\n",
    "        creator=getconn,\n",
    "    )\n",
    "    return engine"
   ]
  },
  {
   "cell_type": "code",
   "execution_count": 13,
   "metadata": {},
   "outputs": [
    {
     "name": "stdout",
     "output_type": "stream",
     "text": [
      "[(1, 2, 'Adam Sheni Martua', 'Jalan Uluwatu Perumahan Taman Penta Blok B.47', 'adammartua@gmail.com', '081262586399', 'ayamgoyeng47', 'bakekok47', 'https://id.wikipedia.org/wiki/Berkas:Ryan_Reynolds_by_Gage_Skidmore.jpg', datetime.datetime(2022, 6, 5, 22, 41, 52), datetime.datetime(2022, 6, 5, 22, 41, 52)), (2, 2, 'Adam Qurroti', 'Jalan Merak Perumahan Taman Penta Blok B.47', 'adamqurroti@gmail.com', '081262586554', 'ayamrebus47', 'bokokok47', 'https://id.wikipedia.org/wiki/Berkas:Cannes_090_(27830786580).jpg', datetime.datetime(2022, 6, 5, 22, 41, 52), datetime.datetime(2022, 6, 5, 22, 41, 52)), (3, 1, 'Shilta Achmadi', 'Jalan Sempidi Perumahan Taman Penta Blok D.47', 'achmadis@gmail.com', '081262589876', 'nasipadang44', 'ayamgorengenak', 'https://id.wikipedia.org/wiki/Berkas:Scarlett_Johansson_by_Gage_Skidmore_2_(cropped,_2).jpg', datetime.datetime(2022, 6, 5, 22, 41, 52), datetime.datetime(2022, 6, 5, 22, 41, 52)), (4, 1, 'Achmadi Inda', 'Jalan Puspem Perumahan Taman Penta Blok D.47', 'indaachmadi@gmail.com', '08126254496', 'nasikencur', 'kucintakucing', 'https://id.wikipedia.org/wiki/Berkas:Alexandria_Ocasio-Cortez_Official_Portrait.jpg', datetime.datetime(2022, 6, 5, 22, 41, 52), datetime.datetime(2022, 6, 5, 22, 41, 52)), (5, 2, 'Aditya Premaswara', 'Jalan Kuta Perumahan Taman Burung Blok D.47', 'aditpres@gmail.com', '08126255986', 'aduhlupa', 'kucintakamu', 'https://id.wikipedia.org/wiki/Berkas:Gubernur_Anies.jpg', datetime.datetime(2022, 6, 5, 22, 41, 52), datetime.datetime(2022, 6, 5, 22, 41, 52)), (6, 1, 'Kadek Prema', 'Jalan Legian Perumahan Taman Kucing Blok D.47', 'kadekprems@gmail.com', '081262554851', 'aduhingat', 'hiyahiya', 'https://id.wikipedia.org/wiki/Berkas:Sandiaga_Uno,_Menteri_Pariwisata_dan_Ekonomi_Kreatif.png', datetime.datetime(2022, 6, 5, 22, 41, 52), datetime.datetime(2022, 6, 5, 22, 41, 52)), (7, 1, 'Andre Winama', 'Jalan Legian Perumahan Taman Kucing Blok D.47', 'winamaandre@gmail.com', '081262554789', 'yahlupalagi', 'nanikoreee', 'https://id.wikipedia.org/wiki/Berkas:Governour_DKI_Jakarta_Djarot_Saiful_Hidayat.jpg', datetime.datetime(2022, 6, 5, 22, 41, 52), datetime.datetime(2022, 6, 5, 22, 41, 52)), (8, 2, 'Made Winandre', 'Jalan Udayana Perumahan Taman Gersang Blok D.47', 'win@gmail.com', '081262554794', '123456', 'wibusayang', 'https://id.wikipedia.org/wiki/Berkas:Tifatul-sembiring.jpg', datetime.datetime(2022, 6, 5, 22, 41, 52), datetime.datetime(2022, 6, 5, 22, 41, 52)), (9, 2, 'Abdur Rahman', 'Jalan Batu Perumahan Taman Sejuk Blok D.47', 'aburrahman@gmail.com', '081262554344', 'rahasiabanget123', 'pecintayoyo', 'https://id.wikipedia.org/wiki/Berkas:Presiden_Susilo_Bambang_Yudhoyono.png', datetime.datetime(2022, 6, 5, 22, 41, 52), datetime.datetime(2022, 6, 5, 22, 41, 52)), (10, 1, 'Raffi Ahmad', 'Jalan Malang Perumahan Taman Sedih Blok D.47', 'raffiahmad@gmail.com', '081262554523', 'enggaingat23', 'penjualsayur', 'https://id.wikipedia.org/wiki/Berkas:President_Megawati_Sukarnoputri_-_Indonesia.jpg', datetime.datetime(2022, 6, 5, 22, 41, 52), datetime.datetime(2022, 6, 5, 22, 41, 52))]\n"
     ]
    }
   ],
   "source": [
    "def getUser():\n",
    "    pool = CloudSQL()\n",
    "    query = \"SELECT * FROM user\"\n",
    "    \n",
    "    with pool.connect() as conn:\n",
    "        result = conn.execute(query).fetchall()\n",
    "        print(result)\n",
    "getUser()"
   ]
  }
 ],
 "metadata": {
  "kernelspec": {
   "display_name": "Python 3.10.4 64-bit",
   "language": "python",
   "name": "python3"
  },
  "language_info": {
   "codemirror_mode": {
    "name": "ipython",
    "version": 3
   },
   "file_extension": ".py",
   "mimetype": "text/x-python",
   "name": "python",
   "nbconvert_exporter": "python",
   "pygments_lexer": "ipython3",
   "version": "3.10.4"
  },
  "orig_nbformat": 4,
  "vscode": {
   "interpreter": {
    "hash": "876db7d3f8682b7e4c5477e5f1e2dc2bd1b19fe05d9aabd59218369070754b39"
   }
  }
 },
 "nbformat": 4,
 "nbformat_minor": 2
}
