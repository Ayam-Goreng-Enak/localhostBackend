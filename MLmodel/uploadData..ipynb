{
 "cells": [
  {
   "cell_type": "code",
   "execution_count": 21,
   "metadata": {},
   "outputs": [],
   "source": [
    "import random\n",
    "import datetime\n",
    "import mysql.connector\n",
    "import csv\n",
    "import os\n",
    "import sys\n",
    "import numpy as np"
   ]
  },
  {
   "cell_type": "code",
   "execution_count": 23,
   "metadata": {},
   "outputs": [],
   "source": [
    "\n",
    "\n",
    "CURRENT_DATE = datetime.datetime.now().strftime(\"%Y-%m-%d\")\n",
    "def upload_data(query,records):\n",
    "    \"\"\"\n",
    "    Upload data to database\n",
    "    \"\"\"\n",
    "    try:\n",
    "        connection = mysql.connector.connect(host='localhost',\n",
    "                                            database='capfits_db',\n",
    "                                            user='root',\n",
    "                                            password='')\n",
    "\n",
    "        cursor = connection.cursor()\n",
    "        # cursor.executemany(query, records)\n",
    "        for record in records:\n",
    "            cursor.execute(query, record)\n",
    "        connection.commit()\n",
    "        print(f\"{len(records)} Record inserted successfully\")\n",
    "\n",
    "        if connection.is_connected():\n",
    "            cursor.close()\n",
    "            connection.close()\n",
    "            print(\"MySQL connection is closed\")\n",
    "    except mysql.connector.Error as error:\n",
    "        print(\"Failed to insert into MySQL table {}\".format(error))\n",
    "\n",
    "\n"
   ]
  },
  {
   "cell_type": "markdown",
   "metadata": {},
   "source": [
    "## import CSV"
   ]
  },
  {
   "cell_type": "code",
   "execution_count": 171,
   "metadata": {},
   "outputs": [],
   "source": [
    "isifile = []\n",
    "datasetfile = os.path.abspath(os.getcwd()+\"\\dataset-filtered.csv\")\n",
    "with open(datasetfile, 'r', encoding='UTF8') as csv_file:\n",
    "    csv_reader = csv.reader(csv_file, delimiter=',')\n",
    "    next(csv_reader)\n",
    "    line_count = 0\n",
    "    for row in csv_reader:\n",
    "        isifile.append(row)"
   ]
  },
  {
   "cell_type": "code",
   "execution_count": 172,
   "metadata": {},
   "outputs": [],
   "source": [
    "ids = []\n",
    "genders = []\n",
    "masters = []\n",
    "subs = []\n",
    "articles = []\n",
    "colors = []\n",
    "seasons = []\n",
    "years = []\n",
    "usages = []\n",
    "names = []\n",
    "for data in isifile:\n",
    "    ids.append(data[1])\n",
    "    genders.append(data[2])\n",
    "    masters.append(data[3])\n",
    "    subs.append(data[4])\n",
    "    articles.append(data[5])\n",
    "    colors.append(data[6])\n",
    "    seasons.append(data[7])\n",
    "    years.append(data[8])\n",
    "    usages.append(data[9])\n",
    "    names.append(data[10])"
   ]
  },
  {
   "cell_type": "code",
   "execution_count": 173,
   "metadata": {},
   "outputs": [
    {
     "data": {
      "text/plain": [
       "array(['Casual', 'Ethnic', 'Formal', 'Sports'], dtype='<U6')"
      ]
     },
     "execution_count": 173,
     "metadata": {},
     "output_type": "execute_result"
    }
   ],
   "source": [
    "np.unique(usages)"
   ]
  },
  {
   "cell_type": "code",
   "execution_count": 174,
   "metadata": {},
   "outputs": [],
   "source": [
    "def userId():\n",
    "    num = random.randint(1, 10)\n",
    "    return num\n"
   ]
  },
  {
   "cell_type": "code",
   "execution_count": 175,
   "metadata": {},
   "outputs": [
    {
     "data": {
      "text/plain": [
       "'Black,Yellow,White'"
      ]
     },
     "execution_count": 175,
     "metadata": {},
     "output_type": "execute_result"
    }
   ],
   "source": [
    "def addColor(color):\n",
    "    color_value = ['Black','Blue','Brown','Green','Grey','Orange','Pink','Purple','Red','White','Yellow']\n",
    "    num = random.randint(1, 3)\n",
    "    color_sample = random.sample(sorted(np.unique(color_value)), num)\n",
    "    allColor = \",\".join(color_sample)\n",
    "    if color in color_sample:\n",
    "        return allColor\n",
    "    return color+\",\"+allColor\n",
    "addColor('Black')"
   ]
  },
  {
   "cell_type": "code",
   "execution_count": 176,
   "metadata": {},
   "outputs": [
    {
     "data": {
      "text/plain": [
       "50000"
      ]
     },
     "execution_count": 176,
     "metadata": {},
     "output_type": "execute_result"
    }
   ],
   "source": [
    "def HargaSewa():\n",
    "    num = random.randint(8, 15)\n",
    "    return num*5000\n",
    "HargaSewa()"
   ]
  },
  {
   "cell_type": "code",
   "execution_count": 177,
   "metadata": {},
   "outputs": [
    {
     "data": {
      "text/plain": [
       "300000"
      ]
     },
     "execution_count": 177,
     "metadata": {},
     "output_type": "execute_result"
    }
   ],
   "source": [
    "def HargaBeli():\n",
    "    num = random.randint(4, 20)\n",
    "    return num*25000\n",
    "HargaBeli()"
   ]
  },
  {
   "cell_type": "code",
   "execution_count": 202,
   "metadata": {},
   "outputs": [
    {
     "data": {
      "text/plain": [
       "6"
      ]
     },
     "execution_count": 202,
     "metadata": {},
     "output_type": "execute_result"
    }
   ],
   "source": [
    "def getStock():\n",
    "    num = random.randint(5, 50)\n",
    "    return num\n",
    "getStock()"
   ]
  },
  {
   "cell_type": "code",
   "execution_count": 219,
   "metadata": {},
   "outputs": [],
   "source": [
    "def getGender(data):\n",
    "    mapperGender = {1:'Women',2:'Men',3:'Unisex'}\n",
    "    for key, value in mapperGender.items():\n",
    "        if value == data:\n",
    "            return key\n",
    "    return -1"
   ]
  },
  {
   "cell_type": "code",
   "execution_count": 224,
   "metadata": {},
   "outputs": [],
   "source": [
    "def getYear(data):\n",
    "    mapperYear = {1:'2010',2:'2011',3:'2012',4:'2013',5:'2014',6:'2015',7:'2016',8:'2017',9:'2018',10:'2019',11:'2020',12:'2021',13:'2022'}\n",
    "    for key, value in mapperYear.items():\n",
    "        if value == data:\n",
    "            return key\n",
    "    return -1 "
   ]
  },
  {
   "cell_type": "code",
   "execution_count": 230,
   "metadata": {},
   "outputs": [],
   "source": [
    "def getMusim(data):\n",
    "    mapperMusim = {1:'Winter',2:'Fall',3:'Spring',4:'Summer'}\n",
    "    for key, value in mapperMusim.items():\n",
    "        if value == data:\n",
    "            return key\n",
    "    return -1"
   ]
  },
  {
   "cell_type": "code",
   "execution_count": 235,
   "metadata": {},
   "outputs": [],
   "source": [
    "def getArticle(data):\n",
    "    mapperType = {1:'Casual Shoes',2:'Flats',3:'Flip Flops',4:'Heels',5:'Jeans',6:'Kurtas',7:'Sandals',8:'Shirts',9:'Sports Shoes',10:'Tops',11:'Trousers',12:'Tshirts'}\n",
    "    for key, value in mapperType.items():\n",
    "        if value == data:\n",
    "            return key\n",
    "    return -1"
   ]
  },
  {
   "cell_type": "code",
   "execution_count": 254,
   "metadata": {},
   "outputs": [],
   "source": [
    "def getStyle(data):\n",
    "    mapperStyle = {2:'Casual',12:'Ethnic',13:'Formal',14:'Sports'}\n",
    "    for key, value in mapperStyle.items():\n",
    "        if value == data:\n",
    "            return key\n",
    "    print(data)\n",
    "    return -1"
   ]
  },
  {
   "cell_type": "code",
   "execution_count": 321,
   "metadata": {},
   "outputs": [
    {
     "data": {
      "text/plain": [
       "(15970,\n",
       " 3,\n",
       " 2,\n",
       " 2,\n",
       " 2,\n",
       " 8,\n",
       " 2,\n",
       " 'Navy Blue,Green,Grey,Purple',\n",
       " 'Turtle Check Men Navy Blue Shirt',\n",
       " 70000,\n",
       " 475000,\n",
       " 'Shirts bagus',\n",
       " 'Shirts yang super bagus - Tersedia dalam warna: Navy Blue,Green,Grey,Purple\\r\\n-',\n",
       " 19)"
      ]
     },
     "execution_count": 321,
     "metadata": {},
     "output_type": "execute_result"
    }
   ],
   "source": [
    "outfits = []\n",
    "for data in isifile:\n",
    "    gender = getGender(data[2])\n",
    "    year = getYear(data[8])\n",
    "    musim = getMusim(data[7])\n",
    "    idtipe = getArticle(data[5])\n",
    "    id_style = getStyle(data[9])\n",
    "    colors = addColor(data[6])\n",
    "    nama_outfit = data[10]\n",
    "    deskripsi = data[5]+\" bagus\"\n",
    "    detail_produk = data[5]+f\" yang super bagus - Tersedia dalam warna: {colors}\\r\\n-\"\n",
    "    stock = getStock()\n",
    "    outfits.append((int(data[1]),userId(),gender,year,musim,idtipe, id_style, colors, nama_outfit, HargaSewa(), HargaBeli(),deskripsi,detail_produk,stock))\n",
    "outfits[0]"
   ]
  },
  {
   "cell_type": "code",
   "execution_count": 251,
   "metadata": {},
   "outputs": [
    {
     "name": "stdout",
     "output_type": "stream",
     "text": [
      "2376 Record inserted successfully\n",
      "MySQL connection is closed\n"
     ]
    }
   ],
   "source": [
    "mySql_insert_query = 'INSERT INTO outfit (id_outfit,id_user,id_gender,id_tahun,id_musim,id_tipe,id_style,warna,nama_outfit,harga_sewa,harga_beli,deskripsi,detail_produk,stock) VALUES (%s,%s,%s,%s,%s,%s,%s,%s,%s,%s,%s,%s,%s,%s)'\n",
    "# item.append(record_article[0])\n",
    "# upload_data(mySql_insert_query,outfits)"
   ]
  },
  {
   "cell_type": "code",
   "execution_count": 329,
   "metadata": {},
   "outputs": [
    {
     "data": {
      "text/plain": [
       "(4, '15970')"
      ]
     },
     "execution_count": 329,
     "metadata": {},
     "output_type": "execute_result"
    }
   ],
   "source": [
    "updateData = []\n",
    "for data in isifile:\n",
    "    if(str(data[9]) == 'Casual'):\n",
    "        updateData.append((random.sample([1,4,8],1)[0],data[1]))\n",
    "    if(str(data[9]) == 'Ethnic'):\n",
    "        updateData.append((random.sample([3,5],1)[0],data[1]))\n",
    "    if(str(data[9]) == 'Formal'):\n",
    "        updateData.append((random.sample([2,6,7],1)[0],data[1]))\n",
    "    if(str(data[9]) == 'Sports'):\n",
    "        updateData.append((random.sample([1,8],1)[0],data[1]))\n",
    "updateData[0]"
   ]
  },
  {
   "cell_type": "code",
   "execution_count": 330,
   "metadata": {},
   "outputs": [
    {
     "name": "stdout",
     "output_type": "stream",
     "text": [
      "2376 Record inserted successfully\n",
      "MySQL connection is closed\n"
     ]
    }
   ],
   "source": [
    "mySql_insert_query = 'UPDATE outfit SET outfit.`id_kategori` = %s where outfit.`id_outfit` = %s'\n",
    "upload_data(mySql_insert_query,updateData)"
   ]
  },
  {
   "cell_type": "code",
   "execution_count": 264,
   "metadata": {},
   "outputs": [],
   "source": [
    "def getSSize():\n",
    "        Size = 'S'\n",
    "        Waist = random.randint(80, 85)\n",
    "        Hip = random.randint(88, 93)\n",
    "        Length = 69\n",
    "        return Size, Waist, Hip, Length"
   ]
  },
  {
   "cell_type": "code",
   "execution_count": 265,
   "metadata": {},
   "outputs": [],
   "source": [
    "def getMSize():\n",
    "        Size = 'M'\n",
    "        Waist = random.randint(85, 90)\n",
    "        Hip = random.randint(93, 98)\n",
    "        Length = 72\n",
    "        return Size, Waist, Hip, Length"
   ]
  },
  {
   "cell_type": "code",
   "execution_count": 266,
   "metadata": {},
   "outputs": [],
   "source": [
    "def getLSize():\n",
    "        Size = 'L'\n",
    "        Waist = random.randint(95, 100)\n",
    "        Hip = random.randint(98, 103)\n",
    "        Length = 74\n",
    "        return Size, Waist, Hip, Length"
   ]
  },
  {
   "cell_type": "code",
   "execution_count": 267,
   "metadata": {},
   "outputs": [],
   "source": [
    "def getXLSize():\n",
    "        Size = 'XL'\n",
    "        Waist = random.randint(100, 105)\n",
    "        Hip = random.randint(103, 108)\n",
    "        Length = 76\n",
    "        return Size, Waist, Hip, Length"
   ]
  },
  {
   "cell_type": "code",
   "execution_count": 283,
   "metadata": {},
   "outputs": [],
   "source": [
    "def getXXLSize():\n",
    "        Size = 'XXL'\n",
    "        Waist = random.randint(105, 110)\n",
    "        Hip = random.randint(108, 113)\n",
    "        Length = 78\n",
    "        return Size, Waist, Hip, Length"
   ]
  },
  {
   "cell_type": "code",
   "execution_count": 284,
   "metadata": {},
   "outputs": [
    {
     "data": {
      "text/plain": [
       "(15970, 'S', 80, 91, 69)"
      ]
     },
     "execution_count": 284,
     "metadata": {},
     "output_type": "execute_result"
    }
   ],
   "source": [
    "outfit_size = []\n",
    "for data in isifile:\n",
    "    id_outfit = data[1]\n",
    "    num = random.randint(1, 5)\n",
    "    if(num == 1):\n",
    "        Size, Waist, Hip, Length = getLSize()\n",
    "        outfit_size.append((int(id_outfit),Size,Waist,Hip,Length))\n",
    "    elif(num == 2):\n",
    "        Size, Waist, Hip, Length = getMSize()\n",
    "        outfit_size.append((int(id_outfit),Size,Waist,Hip,Length))\n",
    "        Size, Waist, Hip, Length = getLSize()\n",
    "        outfit_size.append((int(id_outfit),Size,Waist,Hip,Length))\n",
    "    elif(num == 3):\n",
    "        Size, Waist, Hip, Length = getSSize()\n",
    "        outfit_size.append((int(id_outfit),Size,Waist,Hip,Length))\n",
    "        Size, Waist, Hip, Length = getMSize()\n",
    "        outfit_size.append((int(id_outfit),Size,Waist,Hip,Length))\n",
    "        Size, Waist, Hip, Length = getLSize()\n",
    "        outfit_size.append((int(id_outfit),Size,Waist,Hip,Length))\n",
    "    elif(num == 4):\n",
    "        Size, Waist, Hip, Length = getSSize()\n",
    "        outfit_size.append((int(id_outfit),Size,Waist,Hip,Length))\n",
    "        Size, Waist, Hip, Length = getMSize()\n",
    "        outfit_size.append((int(id_outfit),Size,Waist,Hip,Length))\n",
    "        Size, Waist, Hip, Length = getLSize()\n",
    "        outfit_size.append((int(id_outfit),Size,Waist,Hip,Length))\n",
    "        Size, Waist, Hip, Length = getXLSize()\n",
    "        outfit_size.append((int(id_outfit),Size,Waist,Hip,Length))\n",
    "    elif(num == 5):\n",
    "        Size, Waist, Hip, Length = getSSize()\n",
    "        outfit_size.append((int(id_outfit),Size,Waist,Hip,Length))\n",
    "        Size, Waist, Hip, Length = getMSize()\n",
    "        outfit_size.append((int(id_outfit),Size,Waist,Hip,Length))\n",
    "        Size, Waist, Hip, Length = getLSize()\n",
    "        outfit_size.append((int(id_outfit),Size,Waist,Hip,Length))\n",
    "        Size, Waist, Hip, Length = getXLSize()\n",
    "        outfit_size.append((int(id_outfit),Size,Waist,Hip,Length))\n",
    "        Size, Waist, Hip, Length = getXXLSize()\n",
    "        outfit_size.append((int(id_outfit),Size,Waist,Hip,Length))\n",
    "outfit_size[0]"
   ]
  },
  {
   "cell_type": "code",
   "execution_count": 285,
   "metadata": {},
   "outputs": [
    {
     "name": "stdout",
     "output_type": "stream",
     "text": [
      "7130 Record inserted successfully\n",
      "MySQL connection is closed\n"
     ]
    }
   ],
   "source": [
    "mySql_insert_query = 'INSERT INTO size (id_outfit,size,waist,hip,length) VALUES (%s,%s,%s,%s,%s)'\n",
    "# item.append(record_article[0])\n",
    "upload_data(mySql_insert_query,outfit_size)"
   ]
  },
  {
   "cell_type": "code",
   "execution_count": 332,
   "metadata": {},
   "outputs": [
    {
     "data": {
      "text/plain": [
       "(15970, '15970.jpg')"
      ]
     },
     "execution_count": 332,
     "metadata": {},
     "output_type": "execute_result"
    }
   ],
   "source": [
    "nama_foto = []\n",
    "for data in isifile:\n",
    "    nama_foto.append((int(data[1]),data[1]+\".jpg\"))\n",
    "nama_foto[0]"
   ]
  },
  {
   "cell_type": "code",
   "execution_count": 333,
   "metadata": {},
   "outputs": [
    {
     "name": "stdout",
     "output_type": "stream",
     "text": [
      "2376 Record inserted successfully\n",
      "MySQL connection is closed\n"
     ]
    }
   ],
   "source": [
    "mySql_insert_query = 'INSERT INTO foto_outfit (id_outfit,foto) VALUES (%s,%s)'\n",
    "upload_data(mySql_insert_query,nama_foto)"
   ]
  },
  {
   "cell_type": "code",
   "execution_count": 20,
   "metadata": {},
   "outputs": [
    {
     "data": {
      "text/plain": [
       "datetime.datetime(2022, 6, 9, 8, 16, 23, 713961)"
      ]
     },
     "execution_count": 20,
     "metadata": {},
     "output_type": "execute_result"
    }
   ],
   "source": []
  },
  {
   "cell_type": "markdown",
   "metadata": {},
   "source": [
    "## Firebase Storage"
   ]
  },
  {
   "cell_type": "code",
   "execution_count": 24,
   "metadata": {},
   "outputs": [],
   "source": [
    "import firebase_admin\n",
    "from firebase_admin import credentials\n",
    "from firebase_admin import storage\n",
    "import os"
   ]
  },
  {
   "cell_type": "code",
   "execution_count": 3,
   "metadata": {},
   "outputs": [],
   "source": [
    "# Fetch the service account key JSON file contents\n",
    "cred = credentials.Certificate(os.getcwd()+'\\Bangkit-capfits-firebase-adminsdk-ir8od-6b9ecbadba.json')\n",
    "\n",
    "# Initialize the app with a service account, granting admin privileges\n",
    "# https://console.firebase.google.com/project/bangkit-capfits/storage/bangkit-capfits.appspot.com/files\n",
    "app = firebase_admin.initialize_app(cred, {\n",
    "    'storageBucket': 'bangkit-capfits.appspot.com',\n",
    "}, name='storage')\n",
    "\n",
    "bucket = storage.bucket(app=app)\n",
    "BASESTORAGEIMG = \"Allbaseimage/\""
   ]
  },
  {
   "cell_type": "code",
   "execution_count": null,
   "metadata": {},
   "outputs": [],
   "source": [
    "def downloadFile(filename,bucket = bucket):\n",
    "    blob=bucket.blob(filename)\n",
    "    blob.download_to_filename(filename)"
   ]
  },
  {
   "cell_type": "code",
   "execution_count": 44,
   "metadata": {},
   "outputs": [],
   "source": [
    "def getImgURL(filename,bucket = bucket):\n",
    "    # example filename : \"Allbaseimage/1.jpg\"\n",
    "\n",
    "    blob = bucket.blob(BASESTORAGEIMG+filename)\n",
    "    # fileURL = blob.generate_signed_url(datetime.timedelta(seconds=365), method='GET')\n",
    "    fileURL = blob.generate_signed_url(datetime.timedelta(days=365), method='GET')\n",
    "    return fileURL"
   ]
  },
  {
   "cell_type": "code",
   "execution_count": 26,
   "metadata": {},
   "outputs": [],
   "source": [
    "def uptoBucket(filename,uploadFile,bucket = bucket):\n",
    "    blob=bucket.blob(filename)\n",
    "    blob.upload_from_filename(uploadFile)"
   ]
  },
  {
   "cell_type": "code",
   "execution_count": 45,
   "metadata": {},
   "outputs": [],
   "source": [
    "connection = mysql.connector.connect(host='localhost',\n",
    "                                            database='capfits_db',\n",
    "                                            user='root',\n",
    "                                            password='')\n",
    "\n",
    "mycursor = connection.cursor()\n",
    "\n",
    "mycursor.execute(\"SELECT * FROM foto_outfit\")\n",
    "\n",
    "myresult = mycursor.fetchall()\n",
    "fotoOutfit_list = []\n",
    "for x in myresult:\n",
    "  fotoOutfit_list.append([x[1],x[2]])"
   ]
  },
  {
   "cell_type": "code",
   "execution_count": 46,
   "metadata": {},
   "outputs": [],
   "source": [
    "updateData = []\n",
    "for x in fotoOutfit_list:\n",
    "    name = str(x[0])+\".jpg\"\n",
    "    urls = getImgURL(name)\n",
    "    updateData.append((urls,x[0]))"
   ]
  },
  {
   "cell_type": "code",
   "execution_count": null,
   "metadata": {},
   "outputs": [],
   "source": [
    "# for outfit in fotoOutfit_list:\n",
    "#     filename = \"Allbaseimage/\"+outfit[1]\n",
    "#     uploadFile = \"D:/Andre/Pemrograman/GambarML/\"+outfit[1]\n",
    "#     uptoBucket(filename,uploadFile)"
   ]
  },
  {
   "cell_type": "code",
   "execution_count": null,
   "metadata": {},
   "outputs": [],
   "source": [
    "# update_foto = []\n",
    "# for outfit in fotoOutfit_list:\n",
    "    # filename = \"Allbaseimage/\"+outfit[1]\n",
    "    # update_foto.append((getImgURL(filename),outfit[0]))"
   ]
  },
  {
   "cell_type": "code",
   "execution_count": 47,
   "metadata": {},
   "outputs": [
    {
     "name": "stdout",
     "output_type": "stream",
     "text": [
      "2384 Record inserted successfully\n",
      "MySQL connection is closed\n"
     ]
    }
   ],
   "source": [
    "mySql_insert_query = 'UPDATE foto_outfit SET foto = %s WHERE id_outfit = %s'\n",
    "upload_data(mySql_insert_query,updateData)"
   ]
  }
 ],
 "metadata": {
  "interpreter": {
   "hash": "876db7d3f8682b7e4c5477e5f1e2dc2bd1b19fe05d9aabd59218369070754b39"
  },
  "kernelspec": {
   "display_name": "Python 3.10.4 64-bit",
   "language": "python",
   "name": "python3"
  },
  "language_info": {
   "codemirror_mode": {
    "name": "ipython",
    "version": 3
   },
   "file_extension": ".py",
   "mimetype": "text/x-python",
   "name": "python",
   "nbconvert_exporter": "python",
   "pygments_lexer": "ipython3",
   "version": "3.10.4"
  },
  "orig_nbformat": 4
 },
 "nbformat": 4,
 "nbformat_minor": 2
}
