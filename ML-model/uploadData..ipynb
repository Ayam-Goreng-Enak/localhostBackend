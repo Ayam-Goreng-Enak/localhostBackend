{
 "cells": [
  {
   "cell_type": "code",
   "execution_count": 112,
   "metadata": {},
   "outputs": [],
   "source": [
    "import random\n",
    "from datetime import datetime\n",
    "import mysql.connector\n",
    "import csv\n",
    "import os\n",
    "import sys\n",
    "import numpy as np"
   ]
  },
  {
   "cell_type": "code",
   "execution_count": 96,
   "metadata": {},
   "outputs": [],
   "source": [
    "\n",
    "\n",
    "CURRENT_DATE = datetime.now().strftime(\"%Y-%m-%d\")\n",
    "def upload_data(query,records):\n",
    "    \"\"\"\n",
    "    Upload data to database\n",
    "    \"\"\"\n",
    "    try:\n",
    "        connection = mysql.connector.connect(host='localhost',\n",
    "                                            database='db_capnow',\n",
    "                                            user='root',\n",
    "                                            password='')\n",
    "\n",
    "        cursor = connection.cursor()\n",
    "        # cursor.executemany(query, records)\n",
    "        for record in records:\n",
    "            cursor.execute(query, record)\n",
    "        connection.commit()\n",
    "        print(f\"{len(records)} Record inserted successfully\")\n",
    "\n",
    "        if connection.is_connected():\n",
    "            cursor.close()\n",
    "            connection.close()\n",
    "            print(\"MySQL connection is closed\")\n",
    "    except mysql.connector.Error as error:\n",
    "        connection.rollback()\n",
    "        print(\"Failed to insert into MySQL table {}\".format(error))\n",
    "\n",
    "\n"
   ]
  },
  {
   "cell_type": "markdown",
   "metadata": {},
   "source": [
    "## import CSV"
   ]
  },
  {
   "cell_type": "code",
   "execution_count": 8,
   "metadata": {},
   "outputs": [],
   "source": [
    "isifile = []\n",
    "datasetfile = os.path.abspath(os.getcwd()+\"\\dataset-filtered.csv\")\n",
    "with open(datasetfile, 'r', encoding='UTF8') as csv_file:\n",
    "    csv_reader = csv.reader(csv_file, delimiter=',')\n",
    "    next(csv_reader)\n",
    "    line_count = 0\n",
    "    for row in csv_reader:\n",
    "        isifile.append(row)"
   ]
  },
  {
   "cell_type": "code",
   "execution_count": 63,
   "metadata": {},
   "outputs": [],
   "source": [
    "ids = []\n",
    "genders = []\n",
    "masters = []\n",
    "subs = []\n",
    "articles = []\n",
    "colors = []\n",
    "seasons = []\n",
    "years = []\n",
    "usages = []\n",
    "names = []\n",
    "for data in isifile:\n",
    "    ids.append(data[1])\n",
    "    genders.append(data[2])\n",
    "    masters.append(data[3])\n",
    "    subs.append(data[4])\n",
    "    articles.append(data[5])\n",
    "    colors.append(data[6])\n",
    "    seasons.append(data[7])\n",
    "    years.append(data[8])\n",
    "    usages.append(data[9])\n",
    "    names.append(data[10])"
   ]
  },
  {
   "cell_type": "code",
   "execution_count": 77,
   "metadata": {},
   "outputs": [
    {
     "data": {
      "text/plain": [
       "array(['2010', '2011', '2012', '2013', '2015'], dtype='<U4')"
      ]
     },
     "execution_count": 77,
     "metadata": {},
     "output_type": "execute_result"
    }
   ],
   "source": [
    "np.unique(years)"
   ]
  },
  {
   "cell_type": "code",
   "execution_count": 135,
   "metadata": {},
   "outputs": [
    {
     "data": {
      "text/plain": [
       "5"
      ]
     },
     "execution_count": 135,
     "metadata": {},
     "output_type": "execute_result"
    }
   ],
   "source": [
    "def userId():\n",
    "    num = random.randint(1, 10)\n",
    "    return num\n"
   ]
  },
  {
   "cell_type": "code",
   "execution_count": 109,
   "metadata": {},
   "outputs": [
    {
     "data": {
      "text/plain": [
       "[('Casual Shoes', 5),\n",
       " ('Flats', 5),\n",
       " ('Flip Flops', 2),\n",
       " ('Heels', 5),\n",
       " ('Jeans', 4),\n",
       " ('Kurtas', 1),\n",
       " ('Sandals', 3),\n",
       " ('Shirts', 1),\n",
       " ('Sports Shoes', 5),\n",
       " ('Tops', 1),\n",
       " ('Trousers', 4),\n",
       " ('Tshirts', 1)]"
      ]
     },
     "execution_count": 109,
     "metadata": {},
     "output_type": "execute_result"
    }
   ],
   "source": [
    "outfits = []\n",
    "list_of_Topwear = ['Shirts','Kurtas','Tshirts','Tops']\n",
    "list_of_bottomwear = ['Jeans', 'Trousers']\n",
    "list_of_flip = ['Flip Flops']\n",
    "list_of_Sandal = ['Sandals']\n",
    "list_of_Shoes = ['Casual Shoes', 'Flats', 'Heels', 'Sports Shoes']\n",
    "for item in np.unique(articles):\n",
    "    \n",
    "outfits.append((userId(), item, 'Topwear'))"
   ]
  },
  {
   "cell_type": "code",
   "execution_count": 110,
   "metadata": {},
   "outputs": [
    {
     "name": "stdout",
     "output_type": "stream",
     "text": [
      "12 Record inserted successfully\n",
      "MySQL connection is closed\n"
     ]
    }
   ],
   "source": [
    "mySql_insert_query = \"INSERT INTO article_type (nama_tipe,id_sub_category) VALUES (%s,%s)\"\n",
    "# item.append(record_article[0])\n",
    "upload_data(mySql_insert_query,record_article)"
   ]
  },
  {
   "cell_type": "code",
   "execution_count": null,
   "metadata": {},
   "outputs": [],
   "source": []
  }
 ],
 "metadata": {
  "interpreter": {
   "hash": "fe2afac146a6255d23439d3de8d81a0d29b96f4f00a3670801298cd4cb36d796"
  },
  "kernelspec": {
   "display_name": "Python 3.10.4 32-bit",
   "language": "python",
   "name": "python3"
  },
  "language_info": {
   "codemirror_mode": {
    "name": "ipython",
    "version": 3
   },
   "file_extension": ".py",
   "mimetype": "text/x-python",
   "name": "python",
   "nbconvert_exporter": "python",
   "pygments_lexer": "ipython3",
   "version": "3.10.4"
  },
  "orig_nbformat": 4
 },
 "nbformat": 4,
 "nbformat_minor": 2
}
